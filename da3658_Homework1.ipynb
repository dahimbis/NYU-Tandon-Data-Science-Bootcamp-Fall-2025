{
 "cells": [
  {
   "cell_type": "markdown",
   "id": "6d1f450c-6d9b-47ae-bd2c-b3fb4394ff62",
   "metadata": {},
   "source": [
    "# Dan Ahimbisibwe - Take-Home Assignment1 - Python Basics - WEEK ONE\n"
   ]
  },
  {
   "cell_type": "code",
   "execution_count": 48,
   "id": "20dfad0d-fe2a-423d-a079-018e2c8fe158",
   "metadata": {},
   "outputs": [
    {
     "name": "stdin",
     "output_type": "stream",
     "text": [
      "Enter a word:  HERO\n"
     ]
    },
    {
     "name": "stdout",
     "output_type": "stream",
     "text": [
      "Number of vowels: 2\n"
     ]
    }
   ],
   "source": [
    "# 1. Write a program that takes a word as an input and print the number of vowels in the word.word = input()\n",
    "\n",
    "word = input(\"Enter a word: \")\n",
    "\n",
    "vowels = \"aeiou\"\n",
    "count_vow = 0\n",
    "\n",
    "for char in word.lower():\n",
    "    if char in vowels:\n",
    "        count += 1\n",
    "\n",
    "print(\"Number of vowels:\", count)\n",
    "\n"
   ]
  },
  {
   "cell_type": "code",
   "execution_count": 49,
   "id": "f7433a5c-d94f-4722-8085-db517873bc8c",
   "metadata": {},
   "outputs": [
    {
     "name": "stdout",
     "output_type": "stream",
     "text": [
      "TIGER\n",
      "ELEPHANT\n",
      "MONKEY\n",
      "ZEBRA\n",
      "PANTHER\n"
     ]
    }
   ],
   "source": [
    "# 2. Iterate through the following list of animals and print each one in all caps.\n",
    "\n",
    "#   animals=['tiger', 'elephant', 'monkey', 'zebra', 'panther']\n",
    "animals=['tiger', 'elephant', 'monkey', 'zebra', 'panther']\n",
    "\n",
    "for i in animals:\n",
    "    print(i.upper())"
   ]
  },
  {
   "cell_type": "code",
   "execution_count": 50,
   "id": "985023ac-905a-460e-a9e5-4b8cf85b62c1",
   "metadata": {},
   "outputs": [
    {
     "name": "stdout",
     "output_type": "stream",
     "text": [
      "1 odd\n",
      "2 even\n",
      "3 odd\n",
      "4 even\n",
      "5 odd\n",
      "6 even\n",
      "7 odd\n",
      "8 even\n",
      "9 odd\n",
      "10 even\n",
      "11 odd\n",
      "12 even\n",
      "13 odd\n",
      "14 even\n",
      "15 odd\n",
      "16 even\n",
      "17 odd\n",
      "18 even\n",
      "19 odd\n",
      "20 even\n"
     ]
    }
   ],
   "source": [
    "# 3. Write a program that iterates from 1 to 20, printing each number and whether it's odd or even.\n",
    "\n",
    "for i in range(1,21):\n",
    "    if i%2 ==0:\n",
    "        print(i, \"even\")\n",
    "    else:\n",
    "        print(i, \"odd\")"
   ]
  },
  {
   "cell_type": "code",
   "execution_count": 51,
   "id": "13ea091e-5516-4d37-bbb2-62e7b3459712",
   "metadata": {},
   "outputs": [
    {
     "name": "stdin",
     "output_type": "stream",
     "text": [
      "Enter a word:  HERO\n"
     ]
    },
    {
     "name": "stdout",
     "output_type": "stream",
     "text": [
      "Not a palindrome\n"
     ]
    }
   ],
   "source": [
    "# 4. Write a program to check if a string is a palindrome or not.\n",
    "string_word = input(\"Enter a word: \")\n",
    "\n",
    "if string_word == string_word[::-1]:\n",
    "    print(\"Palindrome\")\n",
    "else:\n",
    "    print(\"Not a palindrome\")"
   ]
  },
  {
   "cell_type": "code",
   "execution_count": 52,
   "id": "b823e752-83cb-4a23-96ef-eeb513f77699",
   "metadata": {},
   "outputs": [
    {
     "name": "stdin",
     "output_type": "stream",
     "text": [
      "a:  56\n",
      "b:  77\n"
     ]
    },
    {
     "name": "stdout",
     "output_type": "stream",
     "text": [
      "sum:  133\n"
     ]
    }
   ],
   "source": [
    "# 5. Write a function sum_of_integers(a, b) that takes two integers as input from the user and returns their sum. (optional)\n",
    "def sum_of_integers(a, b):\n",
    "    return a + b\n",
    "\n",
    "a = int(input(\"a: \"))\n",
    "b = int(input(\"b: \"))\n",
    "\n",
    "print(\"sum: \",sum_of_integers(a, b))"
   ]
  },
  {
   "cell_type": "code",
   "execution_count": null,
   "id": "2479ebc2-1d81-4ee4-ac61-09afc3414117",
   "metadata": {},
   "outputs": [],
   "source": []
  }
 ],
 "metadata": {
  "kernelspec": {
   "display_name": "Python 3 (ipykernel)",
   "language": "python",
   "name": "python3"
  },
  "language_info": {
   "codemirror_mode": {
    "name": "ipython",
    "version": 3
   },
   "file_extension": ".py",
   "mimetype": "text/x-python",
   "name": "python",
   "nbconvert_exporter": "python",
   "pygments_lexer": "ipython3",
   "version": "3.12.3"
  }
 },
 "nbformat": 4,
 "nbformat_minor": 5
}
